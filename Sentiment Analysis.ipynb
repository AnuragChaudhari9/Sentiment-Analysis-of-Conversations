{
 "cells": [
  {
   "cell_type": "code",
   "execution_count": 1,
   "id": "61d4d5ef-c986-4bc3-a73e-dd688bb9abf6",
   "metadata": {},
   "outputs": [],
   "source": [
    "import nltk\n",
    "from nltk.tokenize import sent_tokenize\n",
    "from transformers import pipeline, BertTokenizer, BertModel\n",
    "import torch\n",
    "import numpy as np\n",
    "from sklearn.metrics.pairwise import cosine_similarity"
   ]
  },
  {
   "cell_type": "code",
   "execution_count": 2,
   "id": "f65d2fca-4fc5-4b35-bc0c-16c4ea1f9c55",
   "metadata": {},
   "outputs": [
    {
     "name": "stderr",
     "output_type": "stream",
     "text": [
      "[nltk_data] Downloading package punkt to\n",
      "[nltk_data]     C:\\Users\\chaud\\AppData\\Roaming\\nltk_data...\n",
      "[nltk_data]   Package punkt is already up-to-date!\n"
     ]
    }
   ],
   "source": [
    "nltk.download('punkt')\n",
    "\n",
    "sentiment_pipeline = pipeline('sentiment-analysis', model='distilbert-base-uncased-finetuned-sst-2-english')\n",
    "\n",
    "tokenizer = BertTokenizer.from_pretrained('bert-base-uncased')\n",
    "model = BertModel.from_pretrained('bert-base-uncased')"
   ]
  },
  {
   "cell_type": "code",
   "execution_count": 3,
   "id": "af7adff8-1475-45c9-8c1d-239284a03117",
   "metadata": {},
   "outputs": [],
   "source": [
    "salutations = [\n",
    "    \"good morning\", \"good afternoon\", \"good evening\", \"hello\", \"hi\",\n",
    "    \"have a good day\", \"good night\", \"goodbye\", \"bye\", \"see you\", \"take care\"\n",
    "]"
   ]
  },
  {
   "cell_type": "code",
   "execution_count": 4,
   "id": "b10cf129-662c-4ba6-8229-60298b3e9308",
   "metadata": {},
   "outputs": [],
   "source": [
    "def get_sentence_embedding(sentence):\n",
    "    inputs = tokenizer(sentence, return_tensors='pt', truncation=True, padding=True)\n",
    "    outputs = model(**inputs)\n",
    "    return outputs.last_hidden_state.mean(dim=1).detach().numpy()\n",
    "\n",
    "def categorize_dialogues(dialogues):\n",
    "    categories = {\n",
    "        'Agent': {'concern': [], 'positive': [], 'neutral': []},\n",
    "        'Customer': {'concern': [], 'positive': [], 'neutral': []}\n",
    "    }\n",
    "   \n",
    "    for dialogue in dialogues:\n",
    "        sentences = sent_tokenize(dialogue['text'])\n",
    "        person = dialogue['person']\n",
    "        dialogue_embedding = get_sentence_embedding(dialogue['text']).reshape(1, -1)  # 2D array\n",
    "       \n",
    "        for sentence in sentences:\n",
    "            sentence_lower = sentence.lower()\n",
    "            if any(salutation in sentence_lower for salutation in salutations):\n",
    "                categories[person]['neutral'].append(sentence)\n",
    "                continue\n",
    "           \n",
    "            sentiment = sentiment_pipeline(sentence)[0]\n",
    "            if sentiment['label'] == 'NEGATIVE':\n",
    "                categories[person]['concern'].append(sentence)\n",
    "            elif sentiment['label'] == 'POSITIVE':\n",
    "                categories[person]['positive'].append(sentence)\n",
    "            else:\n",
    "                categories[person]['neutral'].append(sentence)\n",
    "   \n",
    "    return categories\n",
    "\n",
    "def extract_topics(categories):\n",
    "    topics = {}\n",
    "    for person, sentiments in categories.items():\n",
    "        topics[person] = {}\n",
    "        for category, sentences in sentiments.items():\n",
    "            if not sentences or category == 'neutral': \n",
    "                continue\n",
    "           \n",
    "            embeddings = np.vstack([get_sentence_embedding(sent) for sent in sentences])\n",
    "            avg_embedding = np.mean(embeddings, axis=0).reshape(1, -1) \n",
    "           \n",
    "            similarity_scores = cosine_similarity(embeddings, avg_embedding).flatten()\n",
    "            top_indices = similarity_scores.argsort()[-3:][::-1]  \n",
    "            topics[person][category] = [sentences[i] for i in top_indices]\n",
    "\n",
    "    return topics\n",
    "\n",
    "def parse_dialogues(text):\n",
    "    lines = text.split('\\n')\n",
    "    dialogues = []\n",
    "    current_speaker = None\n",
    "    current_text = []\n",
    "\n",
    "    for line in lines:\n",
    "        if line.strip() == '':\n",
    "            continue\n",
    "        if ':' in line:\n",
    "            if current_speaker:\n",
    "                dialogues.append({'person': current_speaker, 'text': ' '.join(current_text)})\n",
    "            current_speaker, dialogue = line.split(':', 1)\n",
    "            current_speaker = current_speaker.strip()\n",
    "            current_text = [dialogue.strip()]\n",
    "        else:\n",
    "            current_text.append(line.\n",
    "strip())\n",
    "\n",
    "\n",
    "    if current_speaker:\n",
    "        dialogues.append({'person': current_speaker, 'text': ' '.join(current_text)})\n",
    "\n",
    "    return dialogues\n",
    "\n",
    "def read_text_file(file_path):\n",
    "    with open(file_path, 'r', encoding='utf-8') as file:\n",
    "        text = file.read()\n",
    "    return text"
   ]
  },
  {
   "cell_type": "code",
   "execution_count": 5,
   "id": "e3e72e1a-e995-42ef-a884-3d02285e0c3c",
   "metadata": {},
   "outputs": [],
   "source": [
    "file_path = 'life_insurance_conversation.txt'\n",
    "\n",
    "text_content = read_text_file(file_path)"
   ]
  },
  {
   "cell_type": "code",
   "execution_count": 6,
   "id": "23ff37f0-53e0-4665-85f6-d1d61fa899de",
   "metadata": {},
   "outputs": [],
   "source": [
    "dialogues = parse_dialogues(text_content)\n",
    "categorized = categorize_dialogues(\n",
    "dialogues)\n",
    "\n",
    "topics = extract_topics(categorized)"
   ]
  },
  {
   "cell_type": "code",
   "execution_count": 7,
   "id": "fbc4e1f1-4209-4f4d-a92d-8dbd13560ce0",
   "metadata": {},
   "outputs": [
    {
     "name": "stdout",
     "output_type": "stream",
     "text": [
      "\n",
      "Agent's Positive Topics Represented by Sentences:\n",
      "  - Yes, there are several riders you can add to a life insurance policy for additional benefits.\n",
      "  - Whole life insurance, on the other hand, provides coverage for your entire life and also includes a savings component that can build cash value over time.\n",
      "  - Premiums are based on several factors, including your age, health, lifestyle, the type of policy, and the amount of coverage you choose.\n",
      "\n",
      "Agent's Concern Topics Represented by Sentences:\n",
      "  - You can borrow against it, use it to pay premiums, or withdraw it, depending on the terms of your policy.\n",
      "  - If you stop paying premiums, the outcome depends on the type of policy.\n",
      "  - If you're interested in long-term financial planning and leaving a legacy, whole life insurance could be more suitable.\n",
      "\n",
      "Customer's Positive Topics Represented by Sentences:\n",
      "  - That sounds interesting.\n",
      "  - That’s helpful information, Alex.\n",
      "  - I appreciate your help.\n",
      "\n",
      "Customer's Concern Topics Represented by Sentences:\n",
      "  - What happens if I stop paying premiums?\n",
      "  - Can you explain more about the cash value component in whole life insurance?\n",
      "  - What about the premiums?\n"
     ]
    }
   ],
   "source": [
    "print(\"\\nAgent's Positive Topics Represented by Sentences:\")\n",
    "for sentence in topics.get('Agent', {}).get('positive', []):\n",
    "    print(f\"  - {sentence}\")\n",
    "\n",
    "print(\"\\nAgent's Concern Topics Represented by Sentences:\")\n",
    "for sentence in topics.get('Agent', {}).get('concern', []):\n",
    "    print(f\"  - {sentence}\")\n",
    "\n",
    "print(\"\\nCustomer's Positive Topics Represented by Sentences:\")\n",
    "for sentence in topics.get('Customer', {}).get('positive', []):\n",
    "    print(f\"  - {sentence}\")\n",
    "\n",
    "print(\"\\nCustomer's Concern Topics Represented by Sentences:\")\n",
    "for sentence in topics.get('Customer', {}).get('concern', []):\n",
    "    print(f\"  - {sentence}\")"
   ]
  },
  {
   "cell_type": "code",
   "execution_count": null,
   "id": "e098dd1a-a923-4912-8d0b-fc309cb894bf",
   "metadata": {},
   "outputs": [],
   "source": []
  }
 ],
 "metadata": {
  "kernelspec": {
   "display_name": "Python 3 (ipykernel)",
   "language": "python",
   "name": "python3"
  },
  "language_info": {
   "codemirror_mode": {
    "name": "ipython",
    "version": 3
   },
   "file_extension": ".py",
   "mimetype": "text/x-python",
   "name": "python",
   "nbconvert_exporter": "python",
   "pygments_lexer": "ipython3",
   "version": "3.10.5"
  }
 },
 "nbformat": 4,
 "nbformat_minor": 5
}
